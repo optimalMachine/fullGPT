{
 "cells": [
  {
   "cell_type": "code",
   "execution_count": 1,
   "metadata": {},
   "outputs": [
    {
     "data": {
      "text/plain": [
       "AIMessage(content='안녕하세요! 한국과 미국 사이의 거리는 대체적으로 약 10,000km 정도입니다. 그러나 정확한 거리는 두 국가 간의 위치에 따라 다를 수 있습니다. 예를 들어, 서울과 뉴욕 사이의 거리는 약 11,000km 정도이며, 서울과 샌프란시스코 사이의 거리는 약 9,000km 정도입니다. 그러므로 정확한 거리를 알고 싶으면 두 지점 사이의 경위도 좌표를 알려주시면 더 자세한 정보를 제공해드릴 수 있습니다. 더 궁금한 점이 있으시면 말씀해주세요.')"
      ]
     },
     "execution_count": 1,
     "metadata": {},
     "output_type": "execute_result"
    }
   ],
   "source": [
    "from langchain.chat_models import ChatOpenAI, ChatAnthropic\n",
    "from langchain.prompts import PromptTemplate, ChatPromptTemplate\n",
    "\n",
    "chat = ChatOpenAI(temperature=1);\n",
    "template = ChatPromptTemplate.from_messages([\n",
    "    ('system', 'You are a geography expert. You will talk very friendly. You will only answer in {language}.'),\n",
    "    ('ai', 'Hello. My name is {name}'),\n",
    "    ('human','What is the distance between {country_a} and {country_b}?')\n",
    "])\n",
    "\n",
    "#temp = PromptTemplate.from_template(\"What is the distance between {country_a} and {country_b}?\")\n",
    "\n",
    "\n",
    "#prompt = template.format(country_a=\"South Korea\", country_b=\"United States\" )\n",
    "\n",
    "prompt = template.format_messages(\n",
    "    language='korean',\n",
    "    name='최지욱',\n",
    "    country_a = 'South Korea',\n",
    "    country_b = 'United States'\n",
    "    )\n",
    "\n",
    "a = chat.predict_messages(prompt)\n",
    "a"
   ]
  },
  {
   "cell_type": "code",
   "execution_count": 18,
   "metadata": {},
   "outputs": [
    {
     "data": {
      "text/plain": [
       "AIMessage(content='안녕하세요! 남한과 미국 사이의 거리는 다양한 요인에 따라 달라질 수 있습니다. 대체적으로 서울과 워싱턴 D.C. 간의 직선 거리는 약 11,000km 정도입니다. 그러나 항공 이동 시 권역 곡선, 비행 경로, 중간 정거지 등의 영향으로 실제 이동 거리는 달라질 수 있습니다. 자세한 정보는 항공편 예약 사이트나 항공사 웹사이트를 참고하시면 더 정확한 정보를 얻으실 수 있습니다.')"
      ]
     },
     "execution_count": 18,
     "metadata": {},
     "output_type": "execute_result"
    }
   ],
   "source": [
    "from langchain.schema import HumanMessage, AIMessage, SystemMessage\n",
    "\n",
    "messages = [\n",
    "    SystemMessage(content='You are a geography expert. You will talk very friendly. You will only answer in {language}.'),\n",
    "    AIMessage (content='Hello. My name is {name}'),\n",
    "    HumanMessage (content = \"What is the distance between {country_a} and {country_b}?\")\n",
    "]\n",
    "\n",
    "a = chat.predict_messages(prompt)\n",
    "a"
   ]
  },
  {
   "cell_type": "code",
   "execution_count": 2,
   "metadata": {},
   "outputs": [],
   "source": [
    "from langchain.chat_models import ChatOpenAI\n",
    "from langchain.prompts import ChatPromptTemplate\n",
    "\n",
    "chat = ChatOpenAI(temperature=0.1)"
   ]
  },
  {
   "cell_type": "code",
   "execution_count": 3,
   "metadata": {},
   "outputs": [],
   "source": [
    "from langchain.schema import BaseOutputParser\n",
    "\n",
    "\n",
    "class CommaOutputParser(BaseOutputParser):\n",
    "    def parse(self, text):\n",
    "        items = text.strip().split(\",\")\n",
    "        return list(map(str.strip, items))"
   ]
  },
  {
   "cell_type": "code",
   "execution_count": 4,
   "metadata": {},
   "outputs": [],
   "source": [
    "template = ChatPromptTemplate.from_messages(\n",
    "    [\n",
    "        (\n",
    "            \"system\",\n",
    "            \"You are a list generating machine. Everything you are asked will be answered with a comma separated list of max {max_items} in lowercase.Do NOT reply with anything else.\",\n",
    "        ),\n",
    "        (\"human\", \"{question}\"),\n",
    "    ]\n",
    ")"
   ]
  },
  {
   "cell_type": "code",
   "execution_count": 5,
   "metadata": {},
   "outputs": [],
   "source": [
    "chain = template | chat | CommaOutputParser()\n"
   ]
  },
  {
   "cell_type": "code",
   "execution_count": 7,
   "metadata": {},
   "outputs": [
    {
     "ename": "NameError",
     "evalue": "name 'count' is not defined",
     "output_type": "error",
     "traceback": [
      "\u001b[0;31m---------------------------------------------------------------------------\u001b[0m",
      "\u001b[0;31mNameError\u001b[0m                                 Traceback (most recent call last)",
      "Cell \u001b[0;32mIn[7], line 2\u001b[0m\n\u001b[1;32m      1\u001b[0m chain\u001b[38;5;241m.\u001b[39minvoke({\u001b[38;5;124m\"\u001b[39m\u001b[38;5;124mmax_items\u001b[39m\u001b[38;5;124m\"\u001b[39m: \u001b[38;5;241m15\u001b[39m, \u001b[38;5;124m\"\u001b[39m\u001b[38;5;124mquestion\u001b[39m\u001b[38;5;124m\"\u001b[39m: \u001b[38;5;124m\"\u001b[39m\u001b[38;5;124mWhat are the pokemons?\u001b[39m\u001b[38;5;124m\"\u001b[39m})\n\u001b[0;32m----> 2\u001b[0m \u001b[43mcount\u001b[49m(chain\u001b[38;5;241m.\u001b[39minvoke)\n",
      "\u001b[0;31mNameError\u001b[0m: name 'count' is not defined"
     ]
    }
   ],
   "source": [
    "chain.invoke({\"max_items\": 15, \"question\": \"What are the pokemons?\"})\n",
    "count(chain.invoke)"
   ]
  },
  {
   "cell_type": "code",
   "execution_count": null,
   "metadata": {},
   "outputs": [],
   "source": [
    "print ()"
   ]
  }
 ],
 "metadata": {
  "kernelspec": {
   "display_name": "Python 3",
   "language": "python",
   "name": "python3"
  },
  "language_info": {
   "codemirror_mode": {
    "name": "ipython",
    "version": 3
   },
   "file_extension": ".py",
   "mimetype": "text/x-python",
   "name": "python",
   "nbconvert_exporter": "python",
   "pygments_lexer": "ipython3",
   "version": "3.10.13"
  }
 },
 "nbformat": 4,
 "nbformat_minor": 2
}
